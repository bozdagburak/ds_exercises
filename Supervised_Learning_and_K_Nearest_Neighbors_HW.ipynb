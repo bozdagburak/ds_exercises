{
 "cells": [
  {
   "cell_type": "markdown",
   "metadata": {},
   "source": [
    "# Denetimli Ogrenme ve K En Yakin Komsu Alistirmalari"
   ]
  },
  {
   "cell_type": "markdown",
   "metadata": {},
   "source": [
    "# Giris\n",
    "\n",
    "Bu hafta alistirmamizda telekom endustrisi musteri\n",
    "verileri kullanilacaktir. Veri dosyamizin adi: `Orange_Telecom_Churn_Data.csv`. Bu dosya önce yuklenip, bazi on islemler yapilarak ve hesap ozelliklerine gore musteri karmasasini tahmin etmek icin k-en yakin komsu algoritmasi kullanilacaktir.\n"
   ]
  },
  {
   "cell_type": "code",
   "execution_count": null,
   "metadata": {
    "ExecuteTime": {
     "end_time": "2017-03-09T17:11:00.462641Z",
     "start_time": "2017-03-09T12:11:00.457060-05:00"
    },
    "collapsed": true
   },
   "outputs": [],
   "source": [
    "from __future__ import print_function\n",
    "import os\n",
    "data_path = ['data']"
   ]
  },
  {
   "cell_type": "code",
   "execution_count": null,
   "metadata": {},
   "outputs": [],
   "source": []
  },
  {
   "cell_type": "markdown",
   "metadata": {},
   "source": [
    "## Soru 1\n",
    "\n",
    "* Verileri ice aktarma ile baslayin. Sutunlari ve verileri inceleyin.\n",
    "* Her bir kayita ait bir eyalet adi, alan kodu ve telefon numarasi icerdigine dikkat edin. Sizce bu sutunlar bir makine ogrenimi modeli olustururken kullanilacak iyi özellikler midir, Neden?\n",
    "\n",
    "Bu sutunlari kullanmayacagiz, bu nedenle cikarin.\n"
   ]
  },
  {
   "cell_type": "code",
   "execution_count": null,
   "metadata": {
    "ExecuteTime": {
     "end_time": "2017-03-09T17:11:00.913456Z",
     "start_time": "2017-03-09T12:11:00.883452-05:00"
    },
    "collapsed": true
   },
   "outputs": [],
   "source": [
    "import pandas as pd\n",
    "\n",
    "#  Dosya yolunu kullanarak verileri ice aktarin\n",
    "filepath = os.sep.join(data_path + ['Orange_Telecom_Churn_Data.csv'])\n",
    "data = pd.read_csv(filepath)"
   ]
  },
  {
   "cell_type": "code",
   "execution_count": null,
   "metadata": {
    "ExecuteTime": {
     "end_time": "2017-03-09T17:11:01.087485Z",
     "start_time": "2017-03-09T12:11:01.075442-05:00"
    }
   },
   "outputs": [],
   "source": [
    "data.head(1).T"
   ]
  },
  {
   "cell_type": "code",
   "execution_count": null,
   "metadata": {
    "ExecuteTime": {
     "end_time": "2017-03-09T17:11:01.564122Z",
     "start_time": "2017-03-09T12:11:01.557967-05:00"
    },
    "collapsed": true
   },
   "outputs": [],
   "source": [
    "# Ekstra sutunlari kaldirin\n",
    "data.drop(['state', 'area_code', 'phone_number'], axis=1, inplace=True)"
   ]
  },
  {
   "cell_type": "code",
   "execution_count": null,
   "metadata": {
    "ExecuteTime": {
     "end_time": "2017-03-09T17:11:02.585712Z",
     "start_time": "2017-03-09T12:11:02.579981-05:00"
    }
   },
   "outputs": [],
   "source": [
    "data.columns"
   ]
  },
  {
   "cell_type": "markdown",
   "metadata": {},
   "source": [
    "## Soru 2\n",
    "\n",
    "* Bazi sutunlarin kategorik deger ve bazilarinin da float deger olduguna dikkat edin. Bu ozelliklerin dersteki yontemlerden biri kullanilarak sayisal degere cevirilmesi gerekecektir.\n",
    "\n",
    "* Son olarak, k-en yakın komsu yonteminde kategorik degerler gerektirdigini unutmayin. Derste bahsedilen olcekleme yontemlerinden birini kullanarak verileri kategorik hale getirin."
   ]
  },
  {
   "cell_type": "code",
   "execution_count": null,
   "metadata": {
    "ExecuteTime": {
     "end_time": "2017-03-09T17:11:04.545751Z",
     "start_time": "2017-03-09T12:11:04.509105-05:00"
    },
    "collapsed": true
   },
   "outputs": [],
   "source": [
    "from sklearn.preprocessing import LabelBinarizer\n",
    "\n",
    "lb = LabelBinarizer()\n",
    "\n",
    "for col in ['intl_plan', 'voice_mail_plan', 'churned']:\n",
    "    data[col] = lb.fit_transform(data[col])"
   ]
  },
  {
   "cell_type": "code",
   "execution_count": null,
   "metadata": {
    "ExecuteTime": {
     "end_time": "2017-03-09T17:11:04.736451Z",
     "start_time": "2017-03-09T12:11:04.718049-05:00"
    },
    "collapsed": true
   },
   "outputs": [],
   "source": [
    "# Sklearn uyarısını yoksayalim\n",
    "import warnings\n",
    "warnings.filterwarnings('ignore', module='sklearn')\n",
    "\n",
    "from sklearn.preprocessing import MinMaxScaler\n",
    "\n",
    "msc = MinMaxScaler()\n",
    "\n",
    "data = pd.DataFrame(msc.fit_transform(data),  #Bu bir np.array, dataframe degil.\n",
    "                    columns=data.columns)"
   ]
  },
  {
   "cell_type": "markdown",
   "metadata": {},
   "source": [
    "## Soru 3\n",
    "\n",
    "* Ozellik sutunlarini (`churned` haric her sey) hedef sutundan (`churned`) ayirin. Bu sekilde iki tablo olusur.\n",
    "* Bu veriler ile `k=3`degerine sahip k-en yakın komsu modeli olusturun ve ayni veriler uzerinde tahmin gerceklestirin."
   ]
  },
  {
   "cell_type": "code",
   "execution_count": null,
   "metadata": {
    "ExecuteTime": {
     "end_time": "2017-03-09T17:11:50.280188Z",
     "start_time": "2017-03-09T12:11:50.269326-05:00"
    },
    "collapsed": true
   },
   "outputs": [],
   "source": [
    "# Hedef Sutun harici butun sutunlari ayrica tutalim\n",
    "x_cols = [x for x in data.columns if x != 'churned']\n",
    "\n",
    "# Verileri iki dataframe'e bolme\n",
    "X_data = data[x_cols]\n",
    "y_data = data['churned']\n",
    "\n",
    "# # alternatif yontem olarak:\n",
    "# X_data = data.copy()\n",
    "# y_data = X_data.pop('churned')"
   ]
  },
  {
   "cell_type": "code",
   "execution_count": null,
   "metadata": {
    "ExecuteTime": {
     "end_time": "2017-03-09T17:11:50.989446Z",
     "start_time": "2017-03-09T12:11:50.498708-05:00"
    },
    "collapsed": true
   },
   "outputs": [],
   "source": [
    "from sklearn.neighbors import KNeighborsClassifier\n",
    "\n",
    "knn = KNeighborsClassifier(n_neighbors=3)\n",
    "\n",
    "knn = knn.fit(X_data, y_data)\n",
    "\n",
    "y_pred = knn.predict(X_data)"
   ]
  },
  {
   "cell_type": "code",
   "execution_count": null,
   "metadata": {},
   "outputs": [],
   "source": []
  },
  {
   "cell_type": "code",
   "execution_count": null,
   "metadata": {},
   "outputs": [],
   "source": []
  },
  {
   "cell_type": "markdown",
   "metadata": {},
   "source": [
    "## Soru 4\n",
    "\n",
    "Hatayi olcme yontemleri henuz sinifta anlatilmamis olabilir, en azindan Huseyin Hoca bana oyle soyledi :) ancak dogruluk tespiti oldukca kolaydir - sadece dogru tahmin edilen etiketlerin yüzdesidir.\n",
    "\n",
    "* Gercek deger ile tahmin edilen etiket degerlerini kullanarak dogruluk hesaplamak icin bir fonksiyon yazin.\n",
    "* Bu Fonksiyonu kullanarak, k-en yakın komsu modelinin veriler uzerindeki dogrulugunu hesaplayip ekranda gosterin."
   ]
  },
  {
   "cell_type": "code",
   "execution_count": null,
   "metadata": {
    "ExecuteTime": {
     "end_time": "2017-03-09T17:11:50.997204Z",
     "start_time": "2017-03-09T12:11:50.991392-05:00"
    },
    "collapsed": true
   },
   "outputs": [],
   "source": [
    "# Dogru tahmin edilen degerlerin yuzdesini hesaplama fonksiyonu\n",
    "\n",
    "def accuracy(real, predict):\n",
    "    return sum(y_data == y_pred) / float(real.shape[0])"
   ]
  },
  {
   "cell_type": "code",
   "execution_count": null,
   "metadata": {
    "ExecuteTime": {
     "end_time": "2017-03-09T17:11:51.128466Z",
     "start_time": "2017-03-09T12:11:51.115874-05:00"
    }
   },
   "outputs": [],
   "source": [
    "print(accuracy(y_data, y_pred))"
   ]
  },
  {
   "cell_type": "markdown",
   "metadata": {},
   "source": [
    "## Soru 5\n",
    "\n",
    "* K-en yakın komsu modelini tekrar `n_neighbors=3` ile olusturun ancak bu sefer agirlikli mesafe yontemini kullanin. Yukarida olusturdugunuz islevi kullanarak dogrulugu hesaplayin.\n",
    "* Baska bir k-en yakin komşu modeli olusturun. Bu kez esit agirliklar kullanin ancak Minkowski mesafe metrigi icin guc parametresini 1 (`p=1`) olarak ayarlayin. Örnek: Manhattan Mesafesi.\n",
    "\n",
    "Bu sorunun 1. kısmı icin agirlikli mesafeler kullanildiginda, dogruluk icin 1.0 degeri elde edilmelidir. Bunun neden oldugunu dusunun? *Ipucu:* verileri tahmin ederken kNN de model *verinin kendisidir*. Bir sonraki derste bu tuzaktan nasil kacinacagimizi ögrenecegiz."
   ]
  },
  {
   "cell_type": "code",
   "execution_count": null,
   "metadata": {
    "ExecuteTime": {
     "end_time": "2017-03-09T17:11:52.047123Z",
     "start_time": "2017-03-09T12:11:51.538212-05:00"
    },
    "collapsed": true
   },
   "outputs": [],
   "source": [
    "#Ogrencinin kodu yazacagi yer"
   ]
  },
  {
   "cell_type": "code",
   "execution_count": null,
   "metadata": {
    "ExecuteTime": {
     "end_time": "2017-03-09T17:11:52.755941Z",
     "start_time": "2017-03-09T12:11:52.049816-05:00"
    },
    "collapsed": true
   },
   "outputs": [],
   "source": []
  },
  {
   "cell_type": "markdown",
   "metadata": {},
   "source": [
    "## Soru 6\n",
    "\n",
    "* 1 ile 20 arasında değişen `k` (`n_neighbors`) degerlerini kullanarak k-en yakin komsu modellerini olusturun. Bu esnada varsayilan agirlik degerini kullanin. Minkowski mesafesi (`p`) katsayisi 1 veya 2 olarak ayarlanabilir. Sadece bu parametreler her biri icin ayni secilmelidir. Sonuc olarak elde edilen k degerleri ile dogruluk degerlerini bir sozlukte tutup gosterın.\n",
    "\n",
    "* Elde edilen bu `accuracy` ile `k` degerlerini grafikte gorsellestirin. `k=1`oldugunda ne oldugunu fark ettiniz mi? Bunun neden oldugunu dusunuyorsunuz? *Ipucu:* Yukarida tartisilan ile ayni nedenden oturu."
   ]
  },
  {
   "cell_type": "code",
   "execution_count": null,
   "metadata": {
    "ExecuteTime": {
     "end_time": "2017-03-09T17:12:01.329053Z",
     "start_time": "2017-03-09T12:11:52.759302-05:00"
    },
    "collapsed": true
   },
   "outputs": [],
   "source": [
    "#Ogrencinin kodu yazacagi yer"
   ]
  },
  {
   "cell_type": "code",
   "execution_count": null,
   "metadata": {
    "ExecuteTime": {
     "end_time": "2017-03-09T17:12:01.829160Z",
     "start_time": "2017-03-09T12:12:01.331021-05:00"
    },
    "collapsed": true
   },
   "outputs": [],
   "source": []
  },
  {
   "cell_type": "code",
   "execution_count": null,
   "metadata": {
    "ExecuteTime": {
     "end_time": "2017-03-09T17:12:02.238935Z",
     "start_time": "2017-03-09T12:12:01.831094-05:00"
    },
    "collapsed": true
   },
   "outputs": [],
   "source": []
  },
  {
   "cell_type": "code",
   "execution_count": null,
   "metadata": {
    "collapsed": true
   },
   "outputs": [],
   "source": []
  }
 ],
 "metadata": {
  "anaconda-cloud": {},
  "kernelspec": {
   "display_name": "Python 3",
   "language": "python",
   "name": "python3"
  },
  "language_info": {
   "codemirror_mode": {
    "name": "ipython",
    "version": 3
   },
   "file_extension": ".py",
   "mimetype": "text/x-python",
   "name": "python",
   "nbconvert_exporter": "python",
   "pygments_lexer": "ipython3",
   "version": "3.6.7"
  },
  "name": "Linear_Regression_and_K_Nearest_Neighbors_Exercises-ANSWERS",
  "notebookId": 2125319687183902
 },
 "nbformat": 4,
 "nbformat_minor": 1
}

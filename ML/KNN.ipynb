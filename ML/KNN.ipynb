{
 "cells": [
  {
   "cell_type": "markdown",
   "metadata": {},
   "source": [
    "# Denetimli Ogrenme ve K En Yakin Komsu Alistirmalari"
   ]
  },
  {
   "cell_type": "markdown",
   "metadata": {},
   "source": [
    "# Giris\n",
    "\n",
    "Bu hafta alistirmamizda telekom endustrisi musteri\n",
    "verileri kullanilacaktir. Veri dosyamizin adi: `Orange_Telecom_Churn_Data.csv`. Bu dosya önce yuklenip, bazi on islemler yapilarak ve hesap ozelliklerine gore musteri karmasasini tahmin etmek icin k-en yakin komsu algoritmasi kullanilacaktir.\n"
   ]
  },
  {
   "cell_type": "code",
   "execution_count": null,
   "metadata": {
    "ExecuteTime": {
     "end_time": "2017-03-09T17:11:00.462641Z",
     "start_time": "2017-03-09T12:11:00.457060-05:00"
    },
    "collapsed": true,
    "jupyter": {
     "outputs_hidden": true
    }
   },
   "outputs": [],
   "source": [
    "from __future__ import print_function\n",
    "import os\n",
    "data_path = ['data']"
   ]
  },
  {
   "cell_type": "code",
   "execution_count": null,
   "metadata": {},
   "outputs": [],
   "source": []
  },
  {
   "cell_type": "markdown",
   "metadata": {},
   "source": [
    "## Soru 1\n",
    "\n",
    "* Verileri ice aktarma ile baslayin. Sutunlari ve verileri inceleyin.\n",
    "* Her bir kayita ait bir eyalet adi, alan kodu ve telefon numarasi icerdigine dikkat edin. Sizce bu sutunlar bir makine ogrenimi modeli olustururken kullanilacak iyi özellikler midir, Neden?\n",
    "\n",
    "Bu sutunlari kullanmayacagiz, bu nedenle cikarin.\n"
   ]
  },
  {
   "cell_type": "code",
   "execution_count": 254,
   "metadata": {
    "ExecuteTime": {
     "end_time": "2017-03-09T17:11:00.913456Z",
     "start_time": "2017-03-09T12:11:00.883452-05:00"
    }
   },
   "outputs": [],
   "source": [
    "import pandas as pd\n",
    "\n",
    "#  Dosya yolunu kullanarak verileri ice aktarin\n",
    "data = pd.read_csv('Orange_Telecom_Churn_Data.csv')"
   ]
  },
  {
   "cell_type": "code",
   "execution_count": 255,
   "metadata": {
    "ExecuteTime": {
     "end_time": "2017-03-09T17:11:01.087485Z",
     "start_time": "2017-03-09T12:11:01.075442-05:00"
    }
   },
   "outputs": [
    {
     "data": {
      "text/html": [
       "<div>\n",
       "<style scoped>\n",
       "    .dataframe tbody tr th:only-of-type {\n",
       "        vertical-align: middle;\n",
       "    }\n",
       "\n",
       "    .dataframe tbody tr th {\n",
       "        vertical-align: top;\n",
       "    }\n",
       "\n",
       "    .dataframe thead th {\n",
       "        text-align: right;\n",
       "    }\n",
       "</style>\n",
       "<table border=\"1\" class=\"dataframe\">\n",
       "  <thead>\n",
       "    <tr style=\"text-align: right;\">\n",
       "      <th></th>\n",
       "      <th>0</th>\n",
       "    </tr>\n",
       "  </thead>\n",
       "  <tbody>\n",
       "    <tr>\n",
       "      <th>state</th>\n",
       "      <td>KS</td>\n",
       "    </tr>\n",
       "    <tr>\n",
       "      <th>account_length</th>\n",
       "      <td>128</td>\n",
       "    </tr>\n",
       "    <tr>\n",
       "      <th>area_code</th>\n",
       "      <td>415</td>\n",
       "    </tr>\n",
       "    <tr>\n",
       "      <th>phone_number</th>\n",
       "      <td>382-4657</td>\n",
       "    </tr>\n",
       "    <tr>\n",
       "      <th>intl_plan</th>\n",
       "      <td>no</td>\n",
       "    </tr>\n",
       "    <tr>\n",
       "      <th>voice_mail_plan</th>\n",
       "      <td>yes</td>\n",
       "    </tr>\n",
       "    <tr>\n",
       "      <th>number_vmail_messages</th>\n",
       "      <td>25</td>\n",
       "    </tr>\n",
       "    <tr>\n",
       "      <th>total_day_minutes</th>\n",
       "      <td>265.1</td>\n",
       "    </tr>\n",
       "    <tr>\n",
       "      <th>total_day_calls</th>\n",
       "      <td>110</td>\n",
       "    </tr>\n",
       "    <tr>\n",
       "      <th>total_day_charge</th>\n",
       "      <td>45.07</td>\n",
       "    </tr>\n",
       "    <tr>\n",
       "      <th>total_eve_minutes</th>\n",
       "      <td>197.4</td>\n",
       "    </tr>\n",
       "    <tr>\n",
       "      <th>total_eve_calls</th>\n",
       "      <td>99</td>\n",
       "    </tr>\n",
       "    <tr>\n",
       "      <th>total_eve_charge</th>\n",
       "      <td>16.78</td>\n",
       "    </tr>\n",
       "    <tr>\n",
       "      <th>total_night_minutes</th>\n",
       "      <td>244.7</td>\n",
       "    </tr>\n",
       "    <tr>\n",
       "      <th>total_night_calls</th>\n",
       "      <td>91</td>\n",
       "    </tr>\n",
       "    <tr>\n",
       "      <th>total_night_charge</th>\n",
       "      <td>11.01</td>\n",
       "    </tr>\n",
       "    <tr>\n",
       "      <th>total_intl_minutes</th>\n",
       "      <td>10</td>\n",
       "    </tr>\n",
       "    <tr>\n",
       "      <th>total_intl_calls</th>\n",
       "      <td>3</td>\n",
       "    </tr>\n",
       "    <tr>\n",
       "      <th>total_intl_charge</th>\n",
       "      <td>2.7</td>\n",
       "    </tr>\n",
       "    <tr>\n",
       "      <th>number_customer_service_calls</th>\n",
       "      <td>1</td>\n",
       "    </tr>\n",
       "    <tr>\n",
       "      <th>churned</th>\n",
       "      <td>False</td>\n",
       "    </tr>\n",
       "  </tbody>\n",
       "</table>\n",
       "</div>"
      ],
      "text/plain": [
       "                                      0\n",
       "state                                KS\n",
       "account_length                      128\n",
       "area_code                           415\n",
       "phone_number                   382-4657\n",
       "intl_plan                            no\n",
       "voice_mail_plan                     yes\n",
       "number_vmail_messages                25\n",
       "total_day_minutes                 265.1\n",
       "total_day_calls                     110\n",
       "total_day_charge                  45.07\n",
       "total_eve_minutes                 197.4\n",
       "total_eve_calls                      99\n",
       "total_eve_charge                  16.78\n",
       "total_night_minutes               244.7\n",
       "total_night_calls                    91\n",
       "total_night_charge                11.01\n",
       "total_intl_minutes                   10\n",
       "total_intl_calls                      3\n",
       "total_intl_charge                   2.7\n",
       "number_customer_service_calls         1\n",
       "churned                           False"
      ]
     },
     "execution_count": 255,
     "metadata": {},
     "output_type": "execute_result"
    }
   ],
   "source": [
    "data.head(1).T"
   ]
  },
  {
   "cell_type": "code",
   "execution_count": 256,
   "metadata": {
    "ExecuteTime": {
     "end_time": "2017-03-09T17:11:01.564122Z",
     "start_time": "2017-03-09T12:11:01.557967-05:00"
    }
   },
   "outputs": [],
   "source": [
    "# Ekstra sutunlari kaldirin\n",
    "data.drop(['state', 'area_code', 'phone_number'], axis=1, inplace=True)"
   ]
  },
  {
   "cell_type": "code",
   "execution_count": 257,
   "metadata": {
    "ExecuteTime": {
     "end_time": "2017-03-09T17:11:02.585712Z",
     "start_time": "2017-03-09T12:11:02.579981-05:00"
    }
   },
   "outputs": [
    {
     "data": {
      "text/plain": [
       "Index(['account_length', 'intl_plan', 'voice_mail_plan',\n",
       "       'number_vmail_messages', 'total_day_minutes', 'total_day_calls',\n",
       "       'total_day_charge', 'total_eve_minutes', 'total_eve_calls',\n",
       "       'total_eve_charge', 'total_night_minutes', 'total_night_calls',\n",
       "       'total_night_charge', 'total_intl_minutes', 'total_intl_calls',\n",
       "       'total_intl_charge', 'number_customer_service_calls', 'churned'],\n",
       "      dtype='object')"
      ]
     },
     "execution_count": 257,
     "metadata": {},
     "output_type": "execute_result"
    }
   ],
   "source": [
    "data.columns"
   ]
  },
  {
   "cell_type": "markdown",
   "metadata": {},
   "source": [
    "## Soru 2\n",
    "\n",
    "* Bazi sutunlarin kategorik deger ve bazilarinin da float deger olduguna dikkat edin. Bu ozelliklerin dersteki yontemlerden biri kullanilarak sayisal degere cevirilmesi gerekecektir.\n",
    "\n",
    "* Son olarak, k-en yakın komsu yonteminde kategorik degerler gerektirdigini unutmayin. Derste bahsedilen olcekleme yontemlerinden birini kullanarak verileri kategorik hale getirin."
   ]
  },
  {
   "cell_type": "code",
   "execution_count": 258,
   "metadata": {
    "ExecuteTime": {
     "end_time": "2017-03-09T17:11:04.545751Z",
     "start_time": "2017-03-09T12:11:04.509105-05:00"
    }
   },
   "outputs": [],
   "source": [
    "from sklearn.preprocessing import LabelBinarizer\n",
    "\n",
    "lb = LabelBinarizer()\n",
    "\n",
    "for col in ['intl_plan', 'voice_mail_plan', 'churned']:\n",
    "    data[col] = lb.fit_transform(data[col])"
   ]
  },
  {
   "cell_type": "code",
   "execution_count": 259,
   "metadata": {
    "ExecuteTime": {
     "end_time": "2017-03-09T17:11:04.736451Z",
     "start_time": "2017-03-09T12:11:04.718049-05:00"
    }
   },
   "outputs": [],
   "source": [
    "# Sklearn uyarısını yoksayalim\n",
    "import warnings\n",
    "warnings.filterwarnings('ignore', module='sklearn')\n",
    "\n",
    "from sklearn.preprocessing import MinMaxScaler\n",
    "\n",
    "msc = MinMaxScaler()\n",
    "\n",
    "data = pd.DataFrame(msc.fit_transform(data),  #Bu bir np.array, dataframe degil.\n",
    "                    columns=data.columns)"
   ]
  },
  {
   "cell_type": "markdown",
   "metadata": {},
   "source": [
    "## Soru 3\n",
    "\n",
    "* Ozellik sutunlarini (`churned` haric her sey) hedef sutundan (`churned`) ayirin. Bu sekilde iki tablo olusur.\n",
    "* Bu veriler ile `k=3`degerine sahip k-en yakın komsu modeli olusturun ve ayni veriler uzerinde tahmin gerceklestirin."
   ]
  },
  {
   "cell_type": "code",
   "execution_count": 260,
   "metadata": {
    "ExecuteTime": {
     "end_time": "2017-03-09T17:11:50.280188Z",
     "start_time": "2017-03-09T12:11:50.269326-05:00"
    }
   },
   "outputs": [],
   "source": [
    "# Hedef Sutun harici butun sutunlari ayrica tutalim\n",
    "x_cols = [x for x in data.columns if x != 'churned']\n",
    "\n",
    "# Verileri iki dataframe'e bolme\n",
    "X_data = data[x_cols]\n",
    "y_data = data['churned']\n",
    "\n",
    "# # alternatif yontem olarak:\n",
    "# X_data = data.copy()\n",
    "# y_data = X_data.pop('churned')"
   ]
  },
  {
   "cell_type": "code",
   "execution_count": 261,
   "metadata": {
    "ExecuteTime": {
     "end_time": "2017-03-09T17:11:50.989446Z",
     "start_time": "2017-03-09T12:11:50.498708-05:00"
    }
   },
   "outputs": [],
   "source": [
    "from sklearn.neighbors import KNeighborsClassifier\n",
    "\n",
    "knn = KNeighborsClassifier(n_neighbors=3)\n",
    "\n",
    "knn = knn.fit(X_data, y_data)\n",
    "\n",
    "y_pred = knn.predict(X_data)"
   ]
  },
  {
   "cell_type": "code",
   "execution_count": null,
   "metadata": {
    "jupyter": {
     "source_hidden": true
    }
   },
   "outputs": [],
   "source": []
  },
  {
   "cell_type": "code",
   "execution_count": null,
   "metadata": {},
   "outputs": [],
   "source": []
  },
  {
   "cell_type": "markdown",
   "metadata": {},
   "source": [
    "## Soru 4\n",
    "\n",
    "Hatayi olcme yontemleri henuz sinifta anlatilmamis olabilir, en azindan Huseyin Hoca bana oyle soyledi :) ancak dogruluk tespiti oldukca kolaydir - sadece dogru tahmin edilen etiketlerin yüzdesidir.\n",
    "\n",
    "* Gercek deger ile tahmin edilen etiket degerlerini kullanarak dogruluk hesaplamak icin bir fonksiyon yazin.\n",
    "* Bu Fonksiyonu kullanarak, k-en yakın komsu modelinin veriler uzerindeki dogrulugunu hesaplayip ekranda gosterin."
   ]
  },
  {
   "cell_type": "code",
   "execution_count": 262,
   "metadata": {
    "ExecuteTime": {
     "end_time": "2017-03-09T17:11:50.997204Z",
     "start_time": "2017-03-09T12:11:50.991392-05:00"
    }
   },
   "outputs": [],
   "source": [
    "# Dogru tahmin edilen degerlerin yuzdesini hesaplama fonksiyonu\n",
    "\n",
    "def accuracy(real, predict):\n",
    "    return sum(y_data == y_pred) / float(real.shape[0])"
   ]
  },
  {
   "cell_type": "code",
   "execution_count": 263,
   "metadata": {
    "ExecuteTime": {
     "end_time": "2017-03-09T17:11:51.128466Z",
     "start_time": "2017-03-09T12:11:51.115874-05:00"
    }
   },
   "outputs": [
    {
     "data": {
      "text/plain": [
       "0.9422"
      ]
     },
     "execution_count": 263,
     "metadata": {},
     "output_type": "execute_result"
    }
   ],
   "source": [
    "accuracy(y_data, y_pred)"
   ]
  },
  {
   "cell_type": "markdown",
   "metadata": {},
   "source": [
    "## Soru 5\n",
    "\n",
    "* K-en yakın komsu modelini tekrar `n_neighbors=3` ile olusturun ancak bu sefer agirlikli mesafe yontemini kullanin. Yukarida olusturdugunuz islevi kullanarak dogrulugu hesaplayin.\n",
    "* Baska bir k-en yakin komşu modeli olusturun. Bu kez esit agirliklar kullanin ancak Minkowski mesafe metrigi icin guc parametresini 1 (`p=1`) olarak ayarlayin. Örnek: Manhattan Mesafesi.\n",
    "\n",
    "Bu sorunun 1. kısmı icin agirlikli mesafeler kullanildiginda, dogruluk icin 1.0 degeri elde edilmelidir. Bunun neden oldugunu dusunun? *Ipucu:* verileri tahmin ederken kNN de model *verinin kendisidir*. Bir sonraki derste bu tuzaktan nasil kacinacagimizi ögrenecegiz."
   ]
  },
  {
   "cell_type": "code",
   "execution_count": 264,
   "metadata": {
    "ExecuteTime": {
     "end_time": "2017-03-09T17:11:52.047123Z",
     "start_time": "2017-03-09T12:11:51.538212-05:00"
    }
   },
   "outputs": [],
   "source": [
    "#Ogrencinin kodu yazacagi yer"
   ]
  },
  {
   "cell_type": "code",
   "execution_count": 265,
   "metadata": {
    "ExecuteTime": {
     "end_time": "2017-03-09T17:11:52.755941Z",
     "start_time": "2017-03-09T12:11:52.049816-05:00"
    }
   },
   "outputs": [],
   "source": [
    "\n",
    "knn1 = KNeighborsClassifier(n_neighbors=3, weights = \"distance\")\n",
    "\n",
    "knn1 = knn1.fit(X_data, y_data)\n",
    "\n",
    "y_pred1 = knn1.predict(X_data)"
   ]
  },
  {
   "cell_type": "code",
   "execution_count": 266,
   "metadata": {},
   "outputs": [],
   "source": [
    "def accuracy(real, predict):\n",
    "    return sum(y_data == y_pred1) / float(real.shape[0])"
   ]
  },
  {
   "cell_type": "code",
   "execution_count": 267,
   "metadata": {},
   "outputs": [
    {
     "data": {
      "text/plain": [
       "1.0"
      ]
     },
     "execution_count": 267,
     "metadata": {},
     "output_type": "execute_result"
    }
   ],
   "source": [
    "accuracy(y_data, y_pred1)"
   ]
  },
  {
   "cell_type": "code",
   "execution_count": 268,
   "metadata": {},
   "outputs": [],
   "source": [
    "knn2 = KNeighborsClassifier(n_neighbors=3, weights = \"uniform\",\n",
    "                            metric= \"minkowski\", p=1)\n",
    "\n",
    "knn2 = knn2.fit(X_data, y_data)\n",
    "\n",
    "y_pred2 = knn2.predict(X_data)"
   ]
  },
  {
   "cell_type": "code",
   "execution_count": 269,
   "metadata": {},
   "outputs": [],
   "source": [
    "def accuracy(real, predict):\n",
    "    return sum(y_data == y_pred2) / float(real.shape[0])"
   ]
  },
  {
   "cell_type": "code",
   "execution_count": 270,
   "metadata": {},
   "outputs": [
    {
     "data": {
      "text/plain": [
       "0.9456"
      ]
     },
     "execution_count": 270,
     "metadata": {},
     "output_type": "execute_result"
    }
   ],
   "source": [
    "accuracy(y_data, y_pred2)"
   ]
  },
  {
   "cell_type": "markdown",
   "metadata": {},
   "source": [
    "## Soru 6\n",
    "\n",
    "* 1 ile 20 arasında değişen `k` (`n_neighbors`) degerlerini kullanarak k-en yakin komsu modellerini olusturun. Bu esnada varsayilan agirlik degerini kullanin. Minkowski mesafesi (`p`) katsayisi 1 veya 2 olarak ayarlanabilir. Sadece bu parametreler her biri icin ayni secilmelidir. Sonuc olarak elde edilen k degerleri ile dogruluk degerlerini bir sozlukte tutup gosterın.\n",
    "\n",
    "* Elde edilen bu `accuracy` ile `k` degerlerini grafikte gorsellestirin. `k=1`oldugunda ne oldugunu fark ettiniz mi? Bunun neden oldugunu dusunuyorsunuz? *Ipucu:* Yukarida tartisilan ile ayni nedenden oturu."
   ]
  },
  {
   "cell_type": "code",
   "execution_count": 271,
   "metadata": {
    "ExecuteTime": {
     "end_time": "2017-03-09T17:12:01.329053Z",
     "start_time": "2017-03-09T12:11:52.759302-05:00"
    }
   },
   "outputs": [],
   "source": [
    "#Ogrencinin kodu yazacagi yer"
   ]
  },
  {
   "cell_type": "code",
   "execution_count": 272,
   "metadata": {},
   "outputs": [
    {
     "name": "stdout",
     "output_type": "stream",
     "text": [
      "k = 1 için doğruluk değeri:  1.0\n",
      "k = 2 için doğruluk değeri:  0.9286\n",
      "k = 3 için doğruluk değeri:  0.9456\n",
      "k = 4 için doğruluk değeri:  0.9214\n",
      "k = 5 için doğruluk değeri:  0.9356\n",
      "k = 6 için doğruluk değeri:  0.9216\n",
      "k = 7 için doğruluk değeri:  0.929\n",
      "k = 8 için doğruluk değeri:  0.917\n",
      "k = 9 için doğruluk değeri:  0.9256\n",
      "k = 10 için doğruluk değeri:  0.9126\n",
      "k = 11 için doğruluk değeri:  0.921\n",
      "k = 12 için doğruluk değeri:  0.9124\n",
      "k = 13 için doğruluk değeri:  0.9178\n",
      "k = 14 için doğruluk değeri:  0.9096\n",
      "k = 15 için doğruluk değeri:  0.9146\n",
      "k = 16 için doğruluk değeri:  0.9074\n",
      "k = 17 için doğruluk değeri:  0.9126\n",
      "k = 18 için doğruluk değeri:  0.9054\n",
      "k = 19 için doğruluk değeri:  0.9104\n",
      "k = 20 için doğruluk değeri:  0.9022\n"
     ]
    }
   ],
   "source": [
    "ACCURACY = [] \n",
    "for k in np.arange(20):\n",
    "    k = k+1\n",
    "    knn_model=KNeighborsClassifier(n_neighbors=k, weights = \"uniform\",\n",
    "                            metric= \"minkowski\", p=1).fit(X_data, y_data)\n",
    "    y_pred = knn_model.predict(X_data) \n",
    "    doğruluk=accuracy_score(y_data,y_pred)\n",
    "    ACCURACY.append(doğruluk) \n",
    "    print(\"k =\" , k , \"için doğruluk değeri: \", doğruluk)"
   ]
  },
  {
   "cell_type": "code",
   "execution_count": 278,
   "metadata": {},
   "outputs": [
    {
     "data": {
      "text/plain": [
       "[1.0, 0.9286, 0.9456, 0.9214, 0.9356, 0.9216, 0.929, 0.917, 0.9256, 0.9126]"
      ]
     },
     "execution_count": 278,
     "metadata": {},
     "output_type": "execute_result"
    }
   ],
   "source": [
    "ACCURACY[:10]"
   ]
  },
  {
   "cell_type": "code",
   "execution_count": 279,
   "metadata": {},
   "outputs": [
    {
     "data": {
      "image/png": "[encoded data removed]",
      "text/plain": [
       "<Figure size 864x504 with 1 Axes>"
      ]
     },
     "metadata": {
      "image/png": {
       "height": 425,
       "width": 727
      },
      "needs_background": "light"
     },
     "output_type": "display_data"
    }
   ],
   "source": [
    "import seaborn as sns\n",
    "sns.scatterplot(np.arange(1,21),ACCURACY,s=80)\n",
    "plt.xlabel(\"k değerleri\")\n",
    "plt.ylabel(\"doğruluk\");"
   ]
  }
 ],
 "metadata": {
  "anaconda-cloud": {},
  "kernelspec": {
   "display_name": "Python 3 (system-wide)",
   "language": "python",
   "name": "python3"
  },
  "language_info": {
   "codemirror_mode": {
    "name": "ipython",
    "version": 3
   },
   "file_extension": ".py",
   "mimetype": "text/x-python",
   "name": "python",
   "nbconvert_exporter": "python",
   "pygments_lexer": "ipython3",
   "version": "3.6.9"
  },
  "name": "Linear_Regression_and_K_Nearest_Neighbors_Exercises-ANSWERS",
  "notebookId": 2125319687183902
 },
 "nbformat": 4,
 "nbformat_minor": 4
}
